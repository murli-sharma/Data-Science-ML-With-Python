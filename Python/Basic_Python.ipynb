{
  "cells": [
    {
      "cell_type": "markdown",
      "metadata": {
        "id": "view-in-github",
        "colab_type": "text"
      },
      "source": [
        "<a href=\"https://colab.research.google.com/github/murli-sharma/Data-Science-ML-With-Python/blob/main/Python/Basic_Python.ipynb\" target=\"_parent\"><img src=\"https://colab.research.google.com/assets/colab-badge.svg\" alt=\"Open In Colab\"/></a>"
      ]
    },
    {
      "cell_type": "code",
      "execution_count": null,
      "metadata": {
        "colab": {
          "background_save": true,
          "base_uri": "https://localhost:8080/"
        },
        "id": "doSBA9rvnvvX",
        "outputId": "e66ef0ae-758c-4295-900a-9fb2f7312ef5"
      },
      "outputs": [
        {
          "name": "stdout",
          "output_type": "stream",
          "text": [
            "Hello murli\n"
          ]
        }
      ],
      "source": [
        "print('Hello murli')"
      ]
    },
    {
      "cell_type": "code",
      "execution_count": null,
      "metadata": {
        "colab": {
          "background_save": true,
          "base_uri": "https://localhost:8080/"
        },
        "id": "d0GzTsUvn5Gy",
        "outputId": "6bb7707a-8504-4b69-c909-b826deac679c"
      },
      "outputs": [
        {
          "name": "stdout",
          "output_type": "stream",
          "text": [
            "10\n"
          ]
        }
      ],
      "source": [
        "num = 10\n",
        "print(num)"
      ]
    },
    {
      "cell_type": "code",
      "execution_count": null,
      "metadata": {
        "colab": {
          "background_save": true,
          "base_uri": "https://localhost:8080/"
        },
        "id": "wjq658VtoCuJ",
        "outputId": "4b78b00f-9d42-41f8-ff10-a0ac648cef96"
      },
      "outputs": [
        {
          "name": "stdout",
          "output_type": "stream",
          "text": [
            "<class 'float'>\n"
          ]
        }
      ],
      "source": [
        "num1 = 10.2\n",
        "print(type(num1))"
      ]
    },
    {
      "cell_type": "code",
      "execution_count": null,
      "metadata": {
        "colab": {
          "background_save": true,
          "base_uri": "https://localhost:8080/"
        },
        "id": "_oZ_522HoFff",
        "outputId": "6e09b34f-09ec-48ef-8a8d-2d7a53f80327"
      },
      "outputs": [
        {
          "name": "stdout",
          "output_type": "stream",
          "text": [
            "globalschool\n",
            "<class 'str'>\n"
          ]
        }
      ],
      "source": [
        "Name = \"globalschool\"\n",
        "print(Name)\n",
        "print(type(Name))\n"
      ]
    },
    {
      "cell_type": "code",
      "execution_count": null,
      "metadata": {
        "colab": {
          "background_save": true,
          "base_uri": "https://localhost:8080/"
        },
        "id": "yrleJY9eom9l",
        "outputId": "e1d80e06-e37f-4fbe-b144-2c142dc28b2a"
      },
      "outputs": [
        {
          "name": "stdout",
          "output_type": "stream",
          "text": [
            "15\n"
          ]
        }
      ],
      "source": [
        "a,b,c = 10,15,20\n",
        "print(b)\n",
        "     "
      ]
    },
    {
      "cell_type": "code",
      "execution_count": null,
      "metadata": {
        "colab": {
          "background_save": true,
          "base_uri": "https://localhost:8080/"
        },
        "id": "o5VZzUfGorQ4",
        "outputId": "8244dfc0-4e4e-467c-ef10-b387a1a8ac14"
      },
      "outputs": [
        {
          "name": "stdout",
          "output_type": "stream",
          "text": [
            "['False', 'None', 'True', 'and', 'as', 'assert', 'async', 'await', 'break', 'class', 'continue', 'def', 'del', 'elif', 'else', 'except', 'finally', 'for', 'from', 'global', 'if', 'import', 'in', 'is', 'lambda', 'nonlocal', 'not', 'or', 'pass', 'raise', 'return', 'try', 'while', 'with', 'yield']\n"
          ]
        }
      ],
      "source": [
        "import keyword\n",
        "print(keyword.kwlist)\n",
        "     "
      ]
    },
    {
      "cell_type": "code",
      "execution_count": null,
      "metadata": {
        "colab": {
          "background_save": true,
          "base_uri": "https://localhost:8080/"
        },
        "id": "QAa_49ATox6G",
        "outputId": "07153e4f-3267-4e44-9809-28c470743d4c"
      },
      "outputs": [
        {
          "name": "stdout",
          "output_type": "stream",
          "text": [
            "8.0\n",
            "<class 'float'>\n"
          ]
        }
      ],
      "source": [
        "Num2 = (62-5*6)/4\n",
        "print(Num2)\n",
        "print(type(Num2))"
      ]
    },
    {
      "cell_type": "code",
      "execution_count": null,
      "metadata": {
        "colab": {
          "background_save": true,
          "base_uri": "https://localhost:8080/"
        },
        "id": "rIJHYhRio4u3",
        "outputId": "22a7b04f-ca58-4a8e-b5c6-6c18f2b8f8d5"
      },
      "outputs": [
        {
          "name": "stdout",
          "output_type": "stream",
          "text": [
            "5\n",
            "2\n"
          ]
        }
      ],
      "source": [
        "Num3 = 17//3\n",
        "Num4 = 17%3\n",
        "print(Num3)\n",
        "print(Num4)"
      ]
    },
    {
      "cell_type": "code",
      "execution_count": null,
      "metadata": {
        "colab": {
          "background_save": true,
          "base_uri": "https://localhost:8080/"
        },
        "id": "0-jHue1yo-B-",
        "outputId": "5819c404-d86a-48fb-8362-a30ade4b367e"
      },
      "outputs": [
        {
          "name": "stdout",
          "output_type": "stream",
          "text": [
            "murli sharma\n"
          ]
        }
      ],
      "source": [
        "String = 'murli sharma'\n",
        "print(String)"
      ]
    },
    {
      "cell_type": "code",
      "execution_count": null,
      "metadata": {
        "colab": {
          "background_save": true,
          "base_uri": "https://localhost:8080/"
        },
        "id": "ee-UGA3xpBDO",
        "outputId": "e67a41f7-88c9-4a88-8021-7c58c3c85df7"
      },
      "outputs": [
        {
          "name": "stdout",
          "output_type": "stream",
          "text": [
            "Doesn't, they Said.\n",
            "Doesn't, they said.\n"
          ]
        }
      ],
      "source": [
        "String1 = 'Doesn\\'t, they Said.'\n",
        "String2 = \"Doesn't, they said.\"\n",
        "print(String1)\n",
        "print(String2)"
      ]
    },
    {
      "cell_type": "code",
      "execution_count": null,
      "metadata": {
        "colab": {
          "background_save": true,
          "base_uri": "https://localhost:8080/"
        },
        "id": "wf3HSz6zpJ5n",
        "outputId": "48ead130-b364-4769-e7ca-d19a7b54710c"
      },
      "outputs": [
        {
          "name": "stdout",
          "output_type": "stream",
          "text": [
            "First Line.\n",
            "Second Line.\n"
          ]
        }
      ],
      "source": [
        "String3 = 'First Line.\\nSecond Line.'\n",
        "print(String3)\n",
        "     "
      ]
    },
    {
      "cell_type": "code",
      "execution_count": null,
      "metadata": {
        "colab": {
          "background_save": true,
          "base_uri": "https://localhost:8080/"
        },
        "id": "ic5dWEpupS9s",
        "outputId": "eeef849f-9b14-4e2f-cf14-88264289e32e"
      },
      "outputs": [
        {
          "name": "stdout",
          "output_type": "stream",
          "text": [
            "c:\\Some\n",
            "ame\n",
            "c:\\Some\\name\n"
          ]
        }
      ],
      "source": [
        "String4 = 'c:\\Some\\name'\n",
        "String5 = r'c:\\Some\\name'\n",
        "print(String4)\n",
        "print(String5)\n",
        "     "
      ]
    },
    {
      "cell_type": "code",
      "execution_count": null,
      "metadata": {
        "colab": {
          "background_save": true,
          "base_uri": "https://localhost:8080/"
        },
        "id": "av9c5e_QparN",
        "outputId": "1f4fcad2-4369-4e21-c192-0bc01c1ecfcc"
      },
      "outputs": [
        {
          "name": "stdout",
          "output_type": "stream",
          "text": [
            "asasasiumiumium\n"
          ]
        }
      ],
      "source": [
        "String6 = 3*'as'+3*'ium'\n",
        "print(String6)\n",
        "     "
      ]
    },
    {
      "cell_type": "code",
      "execution_count": null,
      "metadata": {
        "colab": {
          "background_save": true,
          "base_uri": "https://localhost:8080/"
        },
        "id": "x3giDngop6SM",
        "outputId": "4b352661-fc00-4a8c-a016-00cf4d7b2607"
      },
      "outputs": [
        {
          "name": "stdout",
          "output_type": "stream",
          "text": [
            "Python\n",
            "tho\n",
            "to\n"
          ]
        }
      ],
      "source": [
        "Prifix = 'Py'\n",
        "String7 = Prifix + 'thon'\n",
        "print(String7)\n",
        "print(String7[2:5])\n",
        "len(String7)\n",
        "print(String7[2:5:2])"
      ]
    },
    {
      "cell_type": "code",
      "execution_count": null,
      "metadata": {
        "colab": {
          "background_save": true,
          "base_uri": "https://localhost:8080/"
        },
        "id": "Cu3AoKrLqgaJ",
        "outputId": "6adaf60b-3110-432d-fa7d-484006a5f3b4"
      },
      "outputs": [
        {
          "name": "stdout",
          "output_type": "stream",
          "text": [
            "[1, 4, 9, 16, 25, 36, 49]\n"
          ]
        }
      ],
      "source": [
        "Squares = [1, 4, 9, 16, 25]\n",
        "Squares.append(36)\n",
        "Squares.append(7**2)\n",
        "print(Squares)"
      ]
    },
    {
      "cell_type": "code",
      "execution_count": null,
      "metadata": {
        "colab": {
          "background_save": true,
          "base_uri": "https://localhost:8080/"
        },
        "id": "MQdxe7VUqhgM",
        "outputId": "8d5735d5-90f0-4eb1-cd2d-35aa5f164b79"
      },
      "outputs": [
        {
          "name": "stdout",
          "output_type": "stream",
          "text": [
            "[1, 4, 64, 81, 100, 36, 49]\n"
          ]
        }
      ],
      "source": [
        "Squares1 = [1,4,9,16,25,36,49]\n",
        "Squares1[2:5] = [64,81,100]\n",
        "print(Squares1)\n",
        "     "
      ]
    },
    {
      "cell_type": "code",
      "execution_count": null,
      "metadata": {
        "colab": {
          "background_save": true,
          "base_uri": "https://localhost:8080/"
        },
        "id": "DCqVUIYJqnl7",
        "outputId": "213c5e28-f754-41c3-9afe-7f8abbac3b27"
      },
      "outputs": [
        {
          "name": "stdout",
          "output_type": "stream",
          "text": [
            "[['a', 'b', 'c'], [1, 2, 3]]\n",
            "[['a', 'b', 'c', 1, 2, 3]]\n",
            "['a', 'b', 'c']\n",
            "b\n"
          ]
        }
      ],
      "source": [
        "A = ['a','b','c']\n",
        "B = [1,2,3]\n",
        "C = [A,B]\n",
        "D = [A+B]\n",
        "print(C)\n",
        "print(D)\n",
        "print(C[0])\n",
        "print(C[0][1])"
      ]
    },
    {
      "cell_type": "code",
      "execution_count": null,
      "metadata": {
        "colab": {
          "background_save": true,
          "base_uri": "https://localhost:8080/"
        },
        "id": "esdgNiXUqpPq",
        "outputId": "8f47c178-cfc8-4f22-93da-2412939cf370"
      },
      "outputs": [
        {
          "name": "stdout",
          "output_type": "stream",
          "text": [
            "Aswanurrehman\n",
            "URREHMAN\n",
            "urrehman\n"
          ]
        }
      ],
      "source": [
        "Aswan = 'Urrehman'\n",
        "if 'rehman' in Aswan:\n",
        "  print('Aswanurrehman')\n",
        "print(Aswan.upper())\n",
        "print(Aswan.lower())"
      ]
    },
    {
      "cell_type": "code",
      "execution_count": null,
      "metadata": {
        "colab": {
          "background_save": true,
          "base_uri": "https://localhost:8080/"
        },
        "id": "5n_K4XBIqxNj",
        "outputId": "db1457a5-35b6-419e-a7c6-359fee962ec4"
      },
      "outputs": [
        {
          "name": "stdout",
          "output_type": "stream",
          "text": [
            "D Grade\n"
          ]
        }
      ],
      "source": [
        "Marks = 40\n",
        "if Marks>90:\n",
        "  print('A Grade')\n",
        "elif Marks>80:\n",
        "    print('B Grade')\n",
        "elif Marks>60:\n",
        "      print('C Grade')\n",
        "elif Marks>=40:\n",
        "        print('D Grade')\n",
        "else:\n",
        "          print('F Grade')"
      ]
    },
    {
      "cell_type": "code",
      "execution_count": null,
      "metadata": {
        "colab": {
          "background_save": true,
          "base_uri": "https://localhost:8080/"
        },
        "id": "RdoEmuVyqyf7",
        "outputId": "636498bc-979d-46aa-caa0-5bc3fc14af0e"
      },
      "outputs": [
        {
          "name": "stdout",
          "output_type": "stream",
          "text": [
            "UK\n"
          ]
        }
      ],
      "source": [
        "Age = 25\n",
        "if Age>30:\n",
        "  print('Married')\n",
        "elif Age<10:\n",
        "     print('Unmarried') \n",
        "else: \n",
        "       print('UK')"
      ]
    },
    {
      "cell_type": "code",
      "execution_count": null,
      "metadata": {
        "colab": {
          "background_save": true,
          "base_uri": "https://localhost:8080/"
        },
        "id": "DCLjTfYuq88b",
        "outputId": "ebe1647a-7459-4c03-e0e5-8dab58ffff4b"
      },
      "outputs": [
        {
          "name": "stdout",
          "output_type": "stream",
          "text": [
            "f\n",
            "o\n",
            "r\n",
            "l\n",
            "o\n",
            "o\n",
            "p\n"
          ]
        }
      ],
      "source": [
        "Loop = 'forloop'\n",
        "for ch in Loop:\n",
        "  print(ch)"
      ]
    },
    {
      "cell_type": "code",
      "execution_count": null,
      "metadata": {
        "colab": {
          "background_save": true,
          "base_uri": "https://localhost:8080/"
        },
        "id": "dgoB4UtbrHgx",
        "outputId": "c9771d20-835e-4070-e8cb-5267ba402213"
      },
      "outputs": [
        {
          "name": "stdout",
          "output_type": "stream",
          "text": [
            "cat 3\n",
            "window 6\n",
            "Long 4\n"
          ]
        }
      ],
      "source": [
        "Loop1 = ['cat','window','Long']\n",
        "for w in Loop1:\n",
        "  print(w,len(w))\n",
        "     "
      ]
    },
    {
      "cell_type": "code",
      "execution_count": null,
      "metadata": {
        "colab": {
          "background_save": true,
          "base_uri": "https://localhost:8080/"
        },
        "id": "R3OXV1VRrI7y",
        "outputId": "024e18f0-e937-431c-dd6f-a9997c48cad7"
      },
      "outputs": [
        {
          "name": "stdout",
          "output_type": "stream",
          "text": [
            "0\n",
            "1\n",
            "2\n",
            "3\n",
            "4\n",
            "10\n"
          ]
        }
      ],
      "source": [
        "for i in range(5):\n",
        "  print(i)\n",
        "print(sum(range(5)))"
      ]
    },
    {
      "cell_type": "code",
      "execution_count": null,
      "metadata": {
        "colab": {
          "background_save": true,
          "base_uri": "https://localhost:8080/"
        },
        "id": "gahVYVmNrNKq",
        "outputId": "a40af066-24ac-4032-b034-a0166a0e64cc"
      },
      "outputs": [
        {
          "data": {
            "text/plain": [
              "[5, 6, 7, 8, 9]"
            ]
          },
          "execution_count": 24,
          "metadata": {},
          "output_type": "execute_result"
        }
      ],
      "source": [
        "list(range(5,10))\n",
        "     "
      ]
    },
    {
      "cell_type": "code",
      "execution_count": null,
      "metadata": {
        "colab": {
          "background_save": true,
          "base_uri": "https://localhost:8080/"
        },
        "id": "4aLTGosVrRZS",
        "outputId": "fe61fe99-e7f5-4ec7-df14-b7a3fdb01859"
      },
      "outputs": [
        {
          "data": {
            "text/plain": [
              "[0, 3, 6, 9]"
            ]
          },
          "execution_count": 25,
          "metadata": {},
          "output_type": "execute_result"
        }
      ],
      "source": [
        "list(range(0,10,3))"
      ]
    },
    {
      "cell_type": "code",
      "execution_count": null,
      "metadata": {
        "colab": {
          "background_save": true,
          "base_uri": "https://localhost:8080/"
        },
        "id": "7oTSuPiCrXXQ",
        "outputId": "508f870c-9210-4770-a7d6-13ccef13cf9c"
      },
      "outputs": [
        {
          "name": "stdout",
          "output_type": "stream",
          "text": [
            "0\n",
            "1\n",
            "4\n"
          ]
        }
      ],
      "source": [
        "for z in range(5):\n",
        "  if z==3:\n",
        "    break\n",
        "  print(z*z)"
      ]
    },
    {
      "cell_type": "code",
      "execution_count": null,
      "metadata": {
        "colab": {
          "background_save": true,
          "base_uri": "https://localhost:8080/"
        },
        "id": "rAj5lZQ5rY0D",
        "outputId": "e6be27da-208f-41d8-fd57-6e5c541797f7"
      },
      "outputs": [
        {
          "name": "stdout",
          "output_type": "stream",
          "text": [
            "2 is a prime number\n",
            "3 is a prime number\n",
            "4 equals 2 * 2\n",
            "5 is a prime number\n",
            "6 equals 2 * 3\n",
            "7 is a prime number\n",
            "8 equals 2 * 4\n",
            "9 equals 3 * 3\n"
          ]
        }
      ],
      "source": [
        "for n in range(2, 10):\n",
        "    for x in range(2, n):\n",
        "        if n % x == 0:\n",
        "            print(n,'equals',x,'*',n//x)\n",
        "            break\n",
        "    else:\n",
        "      print(n,'is a prime number')    "
      ]
    },
    {
      "cell_type": "code",
      "execution_count": null,
      "metadata": {
        "colab": {
          "background_save": true,
          "base_uri": "https://localhost:8080/"
        },
        "id": "bQOny4qfrcsS",
        "outputId": "c788aeb5-6720-46cd-f019-0624c9c203dd"
      },
      "outputs": [
        {
          "name": "stdout",
          "output_type": "stream",
          "text": [
            "Found an even number 2\n",
            "Found an odd number 3\n",
            "Found an even number 4\n",
            "Found an odd number 5\n",
            "Found an even number 6\n",
            "Found an odd number 7\n",
            "Found an even number 8\n",
            "Found an odd number 9\n"
          ]
        }
      ],
      "source": [
        "for num in range(2, 10):\n",
        "    if num % 2 == 0:\n",
        "        print('Found an even number', num)\n",
        "        continue\n",
        "    print('Found an odd number', num)  "
      ]
    },
    {
      "cell_type": "code",
      "execution_count": null,
      "metadata": {
        "colab": {
          "background_save": true,
          "base_uri": "https://localhost:8080/"
        },
        "id": "pyAfi5Zirgoh",
        "outputId": "28fb5d99-a681-41e0-8524-8ba92f1248e2"
      },
      "outputs": [
        {
          "name": "stdout",
          "output_type": "stream",
          "text": [
            "[55, 2, 3, 'Pepcoding', '8']\n",
            "[55, 2, 3, 'Pepcoding', '8', [1, 2, 3]]\n",
            "[1, 2, 3]\n",
            "[55, 2, 3]\n",
            "[55, 'DEF', 2, 3, 'Pepcoding', '8', [1, 2, 3]]\n",
            "[1, 2, 3]\n",
            "[55, 'DEF', 2, 3, 'Pepcoding', '8']\n",
            "55\n",
            "DEF\n",
            "2\n",
            "3\n",
            "Pepcoding\n",
            "8\n"
          ]
        }
      ],
      "source": [
        "lst = [1,2,3,'Pepcoding']\n",
        "lst.append('8')\n",
        "lst[0] = 55\n",
        "print(lst)\n",
        "lst2 = [1,2,3]\n",
        "lst.append(lst2)\n",
        "print(lst)\n",
        "print(lst[-1])\n",
        "print(lst[0:3])\n",
        "lst.insert(1,'DEF')\n",
        "print(lst)\n",
        "print(lst.pop())\n",
        "print(lst)\n",
        "for i in lst:\n",
        "  print(i)"
      ]
    },
    {
      "cell_type": "code",
      "execution_count": null,
      "metadata": {
        "colab": {
          "background_save": true,
          "base_uri": "https://localhost:8080/"
        },
        "id": "mE7X46YtrniC",
        "outputId": "b5300464-1e7f-440c-a6c9-3a7998c07a8b"
      },
      "outputs": [
        {
          "name": "stdout",
          "output_type": "stream",
          "text": [
            "1\n"
          ]
        }
      ],
      "source": [
        "tup = (1,2,3,'Hello')\n",
        "print(tup[0])\n",
        "     "
      ]
    },
    {
      "cell_type": "code",
      "execution_count": null,
      "metadata": {
        "colab": {
          "background_save": true,
          "base_uri": "https://localhost:8080/",
          "height": 183
        },
        "id": "P60ldlLfsIsB",
        "outputId": "2bdeb323-38c0-4c10-b0f6-f0bbd44c1e0a"
      },
      "outputs": [
        {
          "ename": "TypeError",
          "evalue": "ignored",
          "output_type": "error",
          "traceback": [
            "\u001b[0;31m---------------------------------------------------------------------------\u001b[0m",
            "\u001b[0;31mTypeError\u001b[0m                                 Traceback (most recent call last)",
            "\u001b[0;32m<ipython-input-31-b5d800a869a4>\u001b[0m in \u001b[0;36m<module>\u001b[0;34m\u001b[0m\n\u001b[0;32m----> 1\u001b[0;31m \u001b[0mtup\u001b[0m\u001b[0;34m[\u001b[0m\u001b[0;36m0\u001b[0m\u001b[0;34m]\u001b[0m \u001b[0;34m=\u001b[0m \u001b[0;36m55\u001b[0m\u001b[0;34m\u001b[0m\u001b[0;34m\u001b[0m\u001b[0m\n\u001b[0m\u001b[1;32m      2\u001b[0m \u001b[0;34m\u001b[0m\u001b[0m\n",
            "\u001b[0;31mTypeError\u001b[0m: 'tuple' object does not support item assignment"
          ]
        }
      ],
      "source": [
        "\n",
        "     tup[0] = 55\n",
        "     "
      ]
    },
    {
      "cell_type": "code",
      "execution_count": null,
      "metadata": {
        "colab": {
          "background_save": true
        },
        "id": "xA5dZfumsbDX"
      },
      "outputs": [],
      "source": [
        "for i in tup:\n",
        "  print(i)"
      ]
    },
    {
      "cell_type": "code",
      "execution_count": null,
      "metadata": {
        "colab": {
          "background_save": true
        },
        "id": "s4ZIQlpTtOMo"
      },
      "outputs": [],
      "source": [
        "st = {'Apple','Mango','Banana','Apple'}\n",
        "print(st)\n",
        "st.add('Orange')\n",
        "print(st)\n",
        "for i in st:\n",
        "  print(i)\n",
        "     "
      ]
    },
    {
      "cell_type": "code",
      "execution_count": null,
      "metadata": {
        "colab": {
          "background_save": true
        },
        "id": "qX7txXk8tm1F"
      },
      "outputs": [],
      "source": [
        "st.pop()"
      ]
    },
    {
      "cell_type": "code",
      "execution_count": null,
      "metadata": {
        "colab": {
          "background_save": true
        },
        "id": "wxFjTe96tsbu"
      },
      "outputs": [],
      "source": [
        "set1 = {1,2,3,4,5}\n",
        "set2 = {2,5,8,9}\n",
        "print(set1.union(set2))\n",
        "print(set1.intersection(set2))"
      ]
    },
    {
      "cell_type": "code",
      "execution_count": null,
      "metadata": {
        "colab": {
          "background_save": true
        },
        "id": "ppWFf8dUty7l"
      },
      "outputs": [],
      "source": [
        "dict1 = {'Name' : 'Aswan',\n",
        "         'Team' : 'HotDev'}\n",
        "print(dict1)\n",
        "dict2 = {'A':1,\n",
        "         'C':'Aswan',\n",
        "         'B':[1,2,3],\n",
        "         'A':3\n",
        "}\n",
        "print(dict2)\n",
        "print(dict2['A'])\n",
        "dict2['C']='Aman'\n",
        "print(dict2)\n",
        "print(dict2['B'][1])"
      ]
    },
    {
      "cell_type": "code",
      "execution_count": null,
      "metadata": {
        "colab": {
          "background_save": true
        },
        "id": "RvHMm5AXt5HM"
      },
      "outputs": [],
      "source": [
        "dict2.keys()\n",
        "     "
      ]
    },
    {
      "cell_type": "code",
      "execution_count": null,
      "metadata": {
        "colab": {
          "background_save": true
        },
        "id": "xvvogpSFt_gF"
      },
      "outputs": [],
      "source": [
        "dict2.values()"
      ]
    },
    {
      "cell_type": "code",
      "execution_count": null,
      "metadata": {
        "colab": {
          "background_save": true
        },
        "id": "_6qYTwBMuE3M"
      },
      "outputs": [],
      "source": [
        "for i in dict2.values():\n",
        "  print(i)"
      ]
    },
    {
      "cell_type": "code",
      "execution_count": null,
      "metadata": {
        "colab": {
          "background_save": true
        },
        "id": "5HPNxrmNuJo-"
      },
      "outputs": [],
      "source": [
        "for i,j in dict2.items():\n",
        "  print(i,j)"
      ]
    },
    {
      "cell_type": "code",
      "execution_count": null,
      "metadata": {
        "colab": {
          "background_save": true
        },
        "id": "39LJps5puR-8"
      },
      "outputs": [],
      "source": [
        "for i,j in zip(dict2.values(),dict2.keys()):\n",
        "  print(i,j)"
      ]
    },
    {
      "cell_type": "code",
      "execution_count": null,
      "metadata": {
        "colab": {
          "background_save": true
        },
        "id": "vi3CkVkTuVvL"
      },
      "outputs": [],
      "source": [
        "dict4={val:val*val  for val in range(1,6)}\n",
        "print(dict4)\n",
        "sum1 = sum(dict4.values())\n",
        "print(sum1)\n",
        "     "
      ]
    },
    {
      "cell_type": "code",
      "execution_count": null,
      "metadata": {
        "colab": {
          "background_save": true
        },
        "id": "TTdNtcnAuZ81"
      },
      "outputs": [],
      "source": [
        "try:\n",
        "  a=5\n",
        "  b=6\n",
        "  c=a/b\n",
        "except:\n",
        "    print('Zero Divide')\n",
        "else:\n",
        "  print('Me Bhi Hun')\n",
        "finally:\n",
        "  print('Me Bhi Aa Gaya')"
      ]
    },
    {
      "cell_type": "code",
      "execution_count": null,
      "metadata": {
        "colab": {
          "background_save": true
        },
        "id": "jOIrpPsoulja"
      },
      "outputs": [],
      "source": [
        "class Phone:\n",
        "  a=10\n",
        "  b=5\n",
        "  def initilization(Aswan,X):\n",
        "   Aswan.a=X\n",
        "   Aswan.d=X\n",
        "  def video(Aswan):\n",
        "    print(\"the phone has v call feature\")\n",
        "    print(Aswan.a)"
      ]
    },
    {
      "cell_type": "code",
      "execution_count": null,
      "metadata": {
        "colab": {
          "background_save": true
        },
        "id": "tTmAo7A3uqQ0"
      },
      "outputs": [],
      "source": [
        "p1=Phone()"
      ]
    },
    {
      "cell_type": "code",
      "execution_count": null,
      "metadata": {
        "colab": {
          "background_save": true
        },
        "id": "DtwtEzHcuxFD"
      },
      "outputs": [],
      "source": [
        "p1.initilization(20)\n",
        "     "
      ]
    },
    {
      "cell_type": "code",
      "execution_count": null,
      "metadata": {
        "colab": {
          "background_save": true
        },
        "id": "rk_4zBsPuyHT"
      },
      "outputs": [],
      "source": [
        "p1.d"
      ]
    },
    {
      "cell_type": "code",
      "execution_count": null,
      "metadata": {
        "colab": {
          "background_save": true
        },
        "id": "wiEBH1Zxu2BE"
      },
      "outputs": [],
      "source": [
        "p1.video()\n"
      ]
    },
    {
      "cell_type": "code",
      "execution_count": null,
      "metadata": {
        "colab": {
          "background_save": true
        },
        "id": "FNRe4D-hFHKm"
      },
      "outputs": [],
      "source": [
        "class Phone2:\n",
        "  def __init__(self,brand,color):\n",
        "   self.brand=brand\n",
        "   self.color=color\n",
        "  def printing(self):\n",
        "     print(\"i have \"+self.brand+\" in color \"+self.color)\n"
      ]
    },
    {
      "cell_type": "code",
      "execution_count": null,
      "metadata": {
        "colab": {
          "background_save": true
        },
        "id": "3WEPeXpQGEIS"
      },
      "outputs": [],
      "source": [
        "p2=Phone2(\"Iphone\",\"Black\")"
      ]
    },
    {
      "cell_type": "code",
      "execution_count": null,
      "metadata": {
        "colab": {
          "background_save": true
        },
        "id": "fW69xo5sGFHh"
      },
      "outputs": [],
      "source": [
        "p2.printing()"
      ]
    },
    {
      "cell_type": "code",
      "execution_count": null,
      "metadata": {
        "colab": {
          "background_save": true
        },
        "id": "SWziHafNGMpf"
      },
      "outputs": [],
      "source": [
        "class Phone2:\n",
        "  def __init__(self,brand,color):\n",
        "    self.brand=brand\n",
        "    self.color=color\n",
        "    def printing(self):\n",
        "      print(\"i have \"+self.brand+\" in color \"+self.color)\n",
        "      def xyz(Aswan):\n",
        "        print(\"abc\")"
      ]
    },
    {
      "cell_type": "code",
      "execution_count": null,
      "metadata": {
        "colab": {
          "background_save": true
        },
        "id": "QuP-xLZIGOdZ"
      },
      "outputs": [],
      "source": [
        "class Phone3(Phone2):\n",
        "  def Printing2(self):\n",
        "    print(\"m hu child class\")"
      ]
    },
    {
      "cell_type": "code",
      "execution_count": null,
      "metadata": {
        "colab": {
          "background_save": true
        },
        "id": "wzFZUNayGSSR"
      },
      "outputs": [],
      "source": [
        "p3=Phone3(\"Samsung\",\"white\")"
      ]
    },
    {
      "cell_type": "code",
      "execution_count": null,
      "metadata": {
        "colab": {
          "background_save": true
        },
        "id": "M-OXFr8PGanX"
      },
      "outputs": [],
      "source": [
        "p3.Printing2()\n"
      ]
    },
    {
      "cell_type": "code",
      "execution_count": null,
      "metadata": {
        "colab": {
          "background_save": true
        },
        "id": "LqnwnLkuGerx"
      },
      "outputs": [],
      "source": []
    }
  ],
  "metadata": {
    "colab": {
      "provenance": [],
      "authorship_tag": "ABX9TyOgqrH7CjFSprO9uzrtsBNX",
      "include_colab_link": true
    },
    "kernelspec": {
      "display_name": "Python 3",
      "name": "python3"
    },
    "language_info": {
      "name": "python"
    }
  },
  "nbformat": 4,
  "nbformat_minor": 0
}
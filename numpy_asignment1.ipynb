{
  "nbformat": 4,
  "nbformat_minor": 0,
  "metadata": {
    "colab": {
      "provenance": [],
      "authorship_tag": "ABX9TyP9wc0XljUssbVJnVGnB/iT",
      "include_colab_link": true
    },
    "kernelspec": {
      "name": "python3",
      "display_name": "Python 3"
    },
    "language_info": {
      "name": "python"
    }
  },
  "cells": [
    {
      "cell_type": "markdown",
      "metadata": {
        "id": "view-in-github",
        "colab_type": "text"
      },
      "source": [
        "<a href=\"https://colab.research.google.com/github/murli-sharma/Data-Science-ML-With-Python/blob/main/numpy_asignment1.ipynb\" target=\"_parent\"><img src=\"https://colab.research.google.com/assets/colab-badge.svg\" alt=\"Open In Colab\"/></a>"
      ]
    },
    {
      "cell_type": "markdown",
      "source": [
        "Import numpy as np"
      ],
      "metadata": {
        "id": "4NgRVi-USjXB"
      }
    },
    {
      "cell_type": "code",
      "execution_count": null,
      "metadata": {
        "id": "568AkYFNShM-"
      },
      "outputs": [],
      "source": [
        "import numpy as np"
      ]
    },
    {
      "cell_type": "markdown",
      "source": [
        "Create an array of 10 zeros"
      ],
      "metadata": {
        "id": "eXPHyTlZSu0h"
      }
    },
    {
      "cell_type": "code",
      "execution_count": null,
      "metadata": {
        "colab": {
          "base_uri": "https://localhost:8080/"
        },
        "id": "YMGowgWgSour",
        "outputId": "bad98bd8-318b-461f-9410-1061b3e3c22b"
      },
      "outputs": [
        {
          "output_type": "execute_result",
          "data": {
            "text/plain": [
              "array([0, 0, 0, 0, 0, 0, 0, 0, 0, 0], dtype=int32)"
            ]
          },
          "metadata": {},
          "execution_count": 45
        }
      ],
      "source": [
        "np.zeros(10, dtype='int32')"
      ]
    },
    {
      "cell_type": "markdown",
      "source": [
        "Create an array of 10 ones"
      ],
      "metadata": {
        "id": "6cJqKw6uTL_E"
      }
    },
    {
      "cell_type": "code",
      "execution_count": null,
      "metadata": {
        "colab": {
          "base_uri": "https://localhost:8080/"
        },
        "id": "khswI0yCSoBj",
        "outputId": "40ef0468-edbb-42eb-aa63-14ef281fd1ce"
      },
      "outputs": [
        {
          "output_type": "execute_result",
          "data": {
            "text/plain": [
              "array([1., 1., 1., 1., 1., 1., 1., 1., 1., 1.])"
            ]
          },
          "metadata": {},
          "execution_count": 46
        }
      ],
      "source": [
        "np.ones(10)\n",
        "\n",
        "        "
      ]
    },
    {
      "cell_type": "markdown",
      "source": [
        "Create an array of 10 fives"
      ],
      "metadata": {
        "id": "G6S2LbhyTrU2"
      }
    },
    {
      "cell_type": "code",
      "source": [
        "print(np.ones(10) * 5)\n",
        "\n",
        "print(np.full(10, 5))"
      ],
      "metadata": {
        "colab": {
          "base_uri": "https://localhost:8080/"
        },
        "id": "OIEUFhlyTTlK",
        "outputId": "83c57029-4e53-40f9-8815-60851e64a7ee"
      },
      "execution_count": null,
      "outputs": [
        {
          "output_type": "stream",
          "name": "stdout",
          "text": [
            "[5. 5. 5. 5. 5. 5. 5. 5. 5. 5.]\n",
            "[5 5 5 5 5 5 5 5 5 5]\n"
          ]
        }
      ]
    },
    {
      "cell_type": "markdown",
      "source": [
        "Create an array of the integers from 10 to 50"
      ],
      "metadata": {
        "id": "927xwp8YT7eM"
      }
    },
    {
      "cell_type": "code",
      "source": [
        "np.arange(10,51)"
      ],
      "metadata": {
        "colab": {
          "base_uri": "https://localhost:8080/"
        },
        "id": "SJeIU2b7Tuki",
        "outputId": "218954c4-67a3-4487-ab64-2bc46435405b"
      },
      "execution_count": null,
      "outputs": [
        {
          "output_type": "execute_result",
          "data": {
            "text/plain": [
              "array([10, 11, 12, 13, 14, 15, 16, 17, 18, 19, 20, 21, 22, 23, 24, 25, 26,\n",
              "       27, 28, 29, 30, 31, 32, 33, 34, 35, 36, 37, 38, 39, 40, 41, 42, 43,\n",
              "       44, 45, 46, 47, 48, 49, 50])"
            ]
          },
          "metadata": {},
          "execution_count": 48
        }
      ]
    },
    {
      "cell_type": "markdown",
      "source": [
        "Create an array of all the even integers from 10 to 50"
      ],
      "metadata": {
        "id": "IMAtNqGMUJgk"
      }
    },
    {
      "cell_type": "code",
      "source": [
        "print(np.arange(10, 51, 2))\n",
        "\n",
        "\n",
        "# another method\n",
        "a = np.arange(10, 51)\n",
        "\n",
        "a[ a % 2 == 0]\n",
        "     "
      ],
      "metadata": {
        "colab": {
          "base_uri": "https://localhost:8080/"
        },
        "id": "w4CURZioUFYY",
        "outputId": "10a381d0-d4a8-4a39-869f-f0cb563ab85d"
      },
      "execution_count": null,
      "outputs": [
        {
          "output_type": "stream",
          "name": "stdout",
          "text": [
            "[10 12 14 16 18 20 22 24 26 28 30 32 34 36 38 40 42 44 46 48 50]\n"
          ]
        },
        {
          "output_type": "execute_result",
          "data": {
            "text/plain": [
              "array([10, 12, 14, 16, 18, 20, 22, 24, 26, 28, 30, 32, 34, 36, 38, 40, 42,\n",
              "       44, 46, 48, 50])"
            ]
          },
          "metadata": {},
          "execution_count": 49
        }
      ]
    },
    {
      "cell_type": "markdown",
      "source": [
        "Create a 3x4 matrix with numbers ranging from 0 to 12\n",
        "\n"
      ],
      "metadata": {
        "id": "3KcUzt0qUbqD"
      }
    },
    {
      "cell_type": "code",
      "source": [
        "np.arange(12).reshape(3,4)\n",
        "     "
      ],
      "metadata": {
        "colab": {
          "base_uri": "https://localhost:8080/"
        },
        "id": "XcuSWQHZUNhB",
        "outputId": "01ae2e95-1278-4d35-ea09-01178183df6c"
      },
      "execution_count": null,
      "outputs": [
        {
          "output_type": "execute_result",
          "data": {
            "text/plain": [
              "array([[ 0,  1,  2,  3],\n",
              "       [ 4,  5,  6,  7],\n",
              "       [ 8,  9, 10, 11]])"
            ]
          },
          "metadata": {},
          "execution_count": 50
        }
      ]
    },
    {
      "cell_type": "markdown",
      "source": [
        "Create a 3x3 identity matrix"
      ],
      "metadata": {
        "id": "iDZX7LO4U4d6"
      }
    },
    {
      "cell_type": "code",
      "source": [
        "np.identity(3, dtype='int32')"
      ],
      "metadata": {
        "colab": {
          "base_uri": "https://localhost:8080/"
        },
        "id": "_XIH97dEUtif",
        "outputId": "ceb7aa6f-4a26-4fab-ddda-cd25180135ff"
      },
      "execution_count": null,
      "outputs": [
        {
          "output_type": "execute_result",
          "data": {
            "text/plain": [
              "array([[1, 0, 0],\n",
              "       [0, 1, 0],\n",
              "       [0, 0, 1]], dtype=int32)"
            ]
          },
          "metadata": {},
          "execution_count": 51
        }
      ]
    },
    {
      "cell_type": "markdown",
      "source": [
        "Use Numpy to generate a random number between 0 and 1"
      ],
      "metadata": {
        "id": "zqfFO7tcVJbx"
      }
    },
    {
      "cell_type": "code",
      "source": [
        "# new method\n",
        "print(np.random.random())\n",
        "\n",
        "#\n",
        "np.random.rand(1)[0] "
      ],
      "metadata": {
        "colab": {
          "base_uri": "https://localhost:8080/"
        },
        "id": "qW8clJ0PU_Fm",
        "outputId": "d9c884ff-3f05-4633-d244-1da05dd013b3"
      },
      "execution_count": null,
      "outputs": [
        {
          "output_type": "stream",
          "name": "stdout",
          "text": [
            "0.20244445925310395\n"
          ]
        },
        {
          "output_type": "execute_result",
          "data": {
            "text/plain": [
              "0.059262342738613194"
            ]
          },
          "metadata": {},
          "execution_count": 52
        }
      ]
    },
    {
      "cell_type": "markdown",
      "source": [
        "Use Numpy to generate an array of 25 random numbers sampled from a standard normal distribution"
      ],
      "metadata": {
        "id": "S8F8mmI1VPhw"
      }
    },
    {
      "cell_type": "code",
      "source": [
        "np.random.standard_normal(25).std()\n",
        "\n",
        "\n",
        "\n",
        "np.random.randn(25).std()"
      ],
      "metadata": {
        "colab": {
          "base_uri": "https://localhost:8080/"
        },
        "id": "WMfIu0wbVMaG",
        "outputId": "337e480a-bb1f-44e6-8b26-17945c3f5802"
      },
      "execution_count": null,
      "outputs": [
        {
          "output_type": "execute_result",
          "data": {
            "text/plain": [
              "0.8293112208461492"
            ]
          },
          "metadata": {},
          "execution_count": 53
        }
      ]
    },
    {
      "cell_type": "markdown",
      "source": [
        "np.random.standard_normal(25).std()\n",
        "\n",
        "\n",
        "\n",
        "np.random.randn(25).std()"
      ],
      "metadata": {
        "id": "ijI3ZAIfV4vw"
      }
    },
    {
      "cell_type": "code",
      "source": [
        "np.linspace(0.01, 1, 100).reshape(10, 10)\n",
        "     "
      ],
      "metadata": {
        "colab": {
          "base_uri": "https://localhost:8080/"
        },
        "id": "E9v8_zY6Vglc",
        "outputId": "4d44a958-588a-4bfd-8188-64c479cba787"
      },
      "execution_count": null,
      "outputs": [
        {
          "output_type": "execute_result",
          "data": {
            "text/plain": [
              "array([[0.01, 0.02, 0.03, 0.04, 0.05, 0.06, 0.07, 0.08, 0.09, 0.1 ],\n",
              "       [0.11, 0.12, 0.13, 0.14, 0.15, 0.16, 0.17, 0.18, 0.19, 0.2 ],\n",
              "       [0.21, 0.22, 0.23, 0.24, 0.25, 0.26, 0.27, 0.28, 0.29, 0.3 ],\n",
              "       [0.31, 0.32, 0.33, 0.34, 0.35, 0.36, 0.37, 0.38, 0.39, 0.4 ],\n",
              "       [0.41, 0.42, 0.43, 0.44, 0.45, 0.46, 0.47, 0.48, 0.49, 0.5 ],\n",
              "       [0.51, 0.52, 0.53, 0.54, 0.55, 0.56, 0.57, 0.58, 0.59, 0.6 ],\n",
              "       [0.61, 0.62, 0.63, 0.64, 0.65, 0.66, 0.67, 0.68, 0.69, 0.7 ],\n",
              "       [0.71, 0.72, 0.73, 0.74, 0.75, 0.76, 0.77, 0.78, 0.79, 0.8 ],\n",
              "       [0.81, 0.82, 0.83, 0.84, 0.85, 0.86, 0.87, 0.88, 0.89, 0.9 ],\n",
              "       [0.91, 0.92, 0.93, 0.94, 0.95, 0.96, 0.97, 0.98, 0.99, 1.  ]])"
            ]
          },
          "metadata": {},
          "execution_count": 54
        }
      ]
    },
    {
      "cell_type": "markdown",
      "source": [
        "Numpy Indexing and Slicing"
      ],
      "metadata": {
        "id": "ljiEMEikV-oP"
      }
    },
    {
      "cell_type": "code",
      "source": [
        "ar = (np.arange(25)+1).reshape(5,5)\n",
        "ar"
      ],
      "metadata": {
        "colab": {
          "base_uri": "https://localhost:8080/"
        },
        "id": "KXLRdmJQV7SM",
        "outputId": "ac31f6ec-fc9c-4599-a425-c47048b94f35"
      },
      "execution_count": null,
      "outputs": [
        {
          "output_type": "execute_result",
          "data": {
            "text/plain": [
              "array([[ 1,  2,  3,  4,  5],\n",
              "       [ 6,  7,  8,  9, 10],\n",
              "       [11, 12, 13, 14, 15],\n",
              "       [16, 17, 18, 19, 20],\n",
              "       [21, 22, 23, 24, 25]])"
            ]
          },
          "metadata": {},
          "execution_count": 55
        }
      ]
    },
    {
      "cell_type": "markdown",
      "source": [
        "extract array"
      ],
      "metadata": {
        "id": "yyJMxOdRWqfP"
      }
    },
    {
      "cell_type": "code",
      "source": [
        "ar[2:, 1:4]\n",
        "     "
      ],
      "metadata": {
        "colab": {
          "base_uri": "https://localhost:8080/"
        },
        "id": "Hn_Ftzp9WCGF",
        "outputId": "1db440be-0d62-42d1-d6b2-c3b24e5da60f"
      },
      "execution_count": null,
      "outputs": [
        {
          "output_type": "execute_result",
          "data": {
            "text/plain": [
              "array([[12, 13, 14],\n",
              "       [17, 18, 19],\n",
              "       [22, 23, 24]])"
            ]
          },
          "metadata": {},
          "execution_count": 56
        }
      ]
    },
    {
      "cell_type": "markdown",
      "source": [
        "extract array"
      ],
      "metadata": {
        "id": "6-cG8e7SWwgu"
      }
    },
    {
      "cell_type": "code",
      "source": [
        "ar[2:, 3:0:-1]"
      ],
      "metadata": {
        "colab": {
          "base_uri": "https://localhost:8080/"
        },
        "id": "ZoP_FWA9Ws71",
        "outputId": "ccfb95ff-cd60-4caf-d4d3-3e41faefdab2"
      },
      "execution_count": null,
      "outputs": [
        {
          "output_type": "execute_result",
          "data": {
            "text/plain": [
              "array([[14, 13, 12],\n",
              "       [19, 18, 17],\n",
              "       [24, 23, 22]])"
            ]
          },
          "metadata": {},
          "execution_count": 57
        }
      ]
    },
    {
      "cell_type": "markdown",
      "source": [
        "extract array"
      ],
      "metadata": {
        "id": "WgUxfE6yW3SN"
      }
    },
    {
      "cell_type": "code",
      "source": [
        "ar[4:1:-1, 3:0:-1]"
      ],
      "metadata": {
        "colab": {
          "base_uri": "https://localhost:8080/"
        },
        "id": "kUK9BxhJW0FL",
        "outputId": "b1b07829-114f-466b-a00e-a763e3cda421"
      },
      "execution_count": null,
      "outputs": [
        {
          "output_type": "execute_result",
          "data": {
            "text/plain": [
              "array([[24, 23, 22],\n",
              "       [19, 18, 17],\n",
              "       [14, 13, 12]])"
            ]
          },
          "metadata": {},
          "execution_count": 58
        }
      ]
    },
    {
      "cell_type": "markdown",
      "source": [
        "Split Concatinate"
      ],
      "metadata": {
        "id": "xBLgmsVIW9Q2"
      }
    },
    {
      "cell_type": "code",
      "source": [
        "ar = np.arange(2,10)\n",
        "ar"
      ],
      "metadata": {
        "colab": {
          "base_uri": "https://localhost:8080/"
        },
        "id": "ijQJ-sDWW53c",
        "outputId": "31f6416b-a59d-44cc-cf35-faac01748dd6"
      },
      "execution_count": null,
      "outputs": [
        {
          "output_type": "execute_result",
          "data": {
            "text/plain": [
              "array([2, 3, 4, 5, 6, 7, 8, 9])"
            ]
          },
          "metadata": {},
          "execution_count": 59
        }
      ]
    },
    {
      "cell_type": "markdown",
      "source": [
        "Split array to generate 3 arrays with content"
      ],
      "metadata": {
        "id": "xH1eQ9KfXFHd"
      }
    },
    {
      "cell_type": "code",
      "source": [
        "np.split(ar, [3,5,5])\n",
        "     "
      ],
      "metadata": {
        "colab": {
          "base_uri": "https://localhost:8080/"
        },
        "id": "3k3Pf5lJXAaD",
        "outputId": "96379586-da6b-47f4-fc8f-15eb81931f6d"
      },
      "execution_count": null,
      "outputs": [
        {
          "output_type": "execute_result",
          "data": {
            "text/plain": [
              "[array([2, 3, 4]), array([5, 6]), array([], dtype=int64), array([7, 8, 9])]"
            ]
          },
          "metadata": {},
          "execution_count": 60
        }
      ]
    },
    {
      "cell_type": "code",
      "source": [
        "a = np.array([\n",
        "              [1,2,3],\n",
        "              [4,5,6]\n",
        "])\n",
        "b = np.array([\n",
        "              [7,8,9]\n",
        "])"
      ],
      "metadata": {
        "id": "RGtkBsxkXKcb"
      },
      "execution_count": null,
      "outputs": []
    },
    {
      "cell_type": "markdown",
      "source": [
        "Concatinate array to create new array with content"
      ],
      "metadata": {
        "id": "Kx-NO8OJnytS"
      }
    },
    {
      "cell_type": "code",
      "source": [
        "np.vstack([a,b, b])"
      ],
      "metadata": {
        "id": "GygMwOPPXM8L",
        "colab": {
          "base_uri": "https://localhost:8080/"
        },
        "outputId": "3da95135-3aeb-4af0-a6d1-963646037f7e"
      },
      "execution_count": null,
      "outputs": [
        {
          "output_type": "execute_result",
          "data": {
            "text/plain": [
              "array([[1, 2, 3],\n",
              "       [4, 5, 6],\n",
              "       [7, 8, 9],\n",
              "       [7, 8, 9]])"
            ]
          },
          "metadata": {},
          "execution_count": 62
        }
      ]
    },
    {
      "cell_type": "code",
      "source": [
        "a = np.array([\n",
        "              [1,2,3],\n",
        "              [4,5,6]\n",
        "])\n",
        "b = np.array([\n",
        "              [7,8,9, 10],\n",
        "              [11, 12, 13, 14]\n",
        "])"
      ],
      "metadata": {
        "id": "h6-bMS_Bn1qf"
      },
      "execution_count": null,
      "outputs": []
    },
    {
      "cell_type": "markdown",
      "source": [
        "Concatinate array to create new array with content"
      ],
      "metadata": {
        "id": "yVvxXNFBoSM5"
      }
    },
    {
      "cell_type": "code",
      "source": [
        "np.hstack([a,b])"
      ],
      "metadata": {
        "colab": {
          "base_uri": "https://localhost:8080/"
        },
        "id": "uufIvahGn404",
        "outputId": "83dd77c2-210e-434d-c8d5-5c2247add977"
      },
      "execution_count": null,
      "outputs": [
        {
          "output_type": "execute_result",
          "data": {
            "text/plain": [
              "array([[ 1,  2,  3,  7,  8,  9, 10],\n",
              "       [ 4,  5,  6, 11, 12, 13, 14]])"
            ]
          },
          "metadata": {},
          "execution_count": 64
        }
      ]
    },
    {
      "cell_type": "code",
      "source": [],
      "metadata": {
        "id": "8Wf0Up9aoVVn"
      },
      "execution_count": null,
      "outputs": []
    },
    {
      "cell_type": "markdown",
      "source": [
        "Broadcasting and Indexing"
      ],
      "metadata": {
        "id": "sUvbU8J8oqho"
      }
    },
    {
      "cell_type": "code",
      "source": [
        "ar = np.round(np.random.rand(10)*10)\n",
        "ar"
      ],
      "metadata": {
        "colab": {
          "base_uri": "https://localhost:8080/"
        },
        "id": "kFdvnsBqorm0",
        "outputId": "c58bb47a-c13c-42b8-93a8-d0edaa168e5f"
      },
      "execution_count": null,
      "outputs": [
        {
          "output_type": "execute_result",
          "data": {
            "text/plain": [
              "array([9., 4., 2., 5., 3., 1., 4., 2., 1., 0.])"
            ]
          },
          "metadata": {},
          "execution_count": 65
        }
      ]
    },
    {
      "cell_type": "markdown",
      "source": [
        "create new array containing all numbers which are smaller than 10 in ar"
      ],
      "metadata": {
        "id": "HnTb_c31o3XZ"
      }
    },
    {
      "cell_type": "code",
      "source": [
        "ar[ ar < 10 ]"
      ],
      "metadata": {
        "colab": {
          "base_uri": "https://localhost:8080/"
        },
        "id": "HBUJ4zZ2owFj",
        "outputId": "d43cd601-e31c-4d76-f51a-b38e9adf5f8c"
      },
      "execution_count": null,
      "outputs": [
        {
          "output_type": "execute_result",
          "data": {
            "text/plain": [
              "array([9., 4., 2., 5., 3., 1., 4., 2., 1., 0.])"
            ]
          },
          "metadata": {},
          "execution_count": 66
        }
      ]
    },
    {
      "cell_type": "markdown",
      "source": [
        "create new array containing all numbers which are in range [3, 11] in ar"
      ],
      "metadata": {
        "id": "Z7zZjih3o-Oe"
      }
    },
    {
      "cell_type": "code",
      "source": [
        "ar[ (ar >= 3) & (ar <= 11) ]  # & | ^ ~"
      ],
      "metadata": {
        "colab": {
          "base_uri": "https://localhost:8080/"
        },
        "id": "ZxJWtdxnozPe",
        "outputId": "1dea27b6-1f1e-498f-a2d7-9afba6c4d4eb"
      },
      "execution_count": null,
      "outputs": [
        {
          "output_type": "execute_result",
          "data": {
            "text/plain": [
              "array([9., 4., 5., 3., 4.])"
            ]
          },
          "metadata": {},
          "execution_count": 67
        }
      ]
    },
    {
      "cell_type": "markdown",
      "source": [
        "count how many numbers are minimum in ar"
      ],
      "metadata": {
        "id": "AX-jWW2BpJV3"
      }
    },
    {
      "cell_type": "code",
      "source": [
        "arr = np.round(np.random.rand(10)*10)\n",
        "arr\n",
        "     "
      ],
      "metadata": {
        "colab": {
          "base_uri": "https://localhost:8080/"
        },
        "id": "1tRiuFF5pCd2",
        "outputId": "f44688d2-76cf-4f28-baf2-b09ebb993bcf"
      },
      "execution_count": null,
      "outputs": [
        {
          "output_type": "execute_result",
          "data": {
            "text/plain": [
              "array([9., 2., 4., 5., 3., 8., 8., 6., 9., 5.])"
            ]
          },
          "metadata": {},
          "execution_count": 68
        }
      ]
    },
    {
      "cell_type": "code",
      "source": [
        "arr[ arr == arr.min() ].size"
      ],
      "metadata": {
        "colab": {
          "base_uri": "https://localhost:8080/"
        },
        "id": "4kP9o-4YpGW8",
        "outputId": "f2c5070d-9f41-4966-b316-4673ae5ddfa2"
      },
      "execution_count": null,
      "outputs": [
        {
          "output_type": "execute_result",
          "data": {
            "text/plain": [
              "1"
            ]
          },
          "metadata": {},
          "execution_count": 69
        }
      ]
    },
    {
      "cell_type": "markdown",
      "source": [
        "Create an array of length 20 with first 15 numbers equal to 2 and last 5 numbers = -5"
      ],
      "metadata": {
        "id": "Ykkhec-NrXBc"
      }
    },
    {
      "cell_type": "code",
      "source": [
        "a = np.ones(15)*2\n",
        "b  = np.ones(5)*-5\n",
        "\n",
        "np.concatenate([a,b])"
      ],
      "metadata": {
        "colab": {
          "base_uri": "https://localhost:8080/"
        },
        "id": "uea0y68rrTnK",
        "outputId": "219a9c3b-4828-4300-f844-54a819304d8f"
      },
      "execution_count": null,
      "outputs": [
        {
          "output_type": "execute_result",
          "data": {
            "text/plain": [
              "array([ 2.,  2.,  2.,  2.,  2.,  2.,  2.,  2.,  2.,  2.,  2.,  2.,  2.,\n",
              "        2.,  2., -5., -5., -5., -5., -5.])"
            ]
          },
          "metadata": {},
          "execution_count": 70
        }
      ]
    },
    {
      "cell_type": "code",
      "source": [
        "mat = np.round(np.random.rand(50)*100).reshape(5,10)\n",
        "mat"
      ],
      "metadata": {
        "colab": {
          "base_uri": "https://localhost:8080/"
        },
        "id": "a_ULSlVirdWf",
        "outputId": "364e1012-aff1-488a-f7d6-93ea6b47fc5f"
      },
      "execution_count": null,
      "outputs": [
        {
          "output_type": "execute_result",
          "data": {
            "text/plain": [
              "array([[13., 65., 19., 72., 68., 61., 22.,  2., 53., 28.],\n",
              "       [30., 15., 31., 10.,  1., 24., 89., 86., 53.,  7.],\n",
              "       [ 4., 52., 30., 43.,  5., 54., 93., 33.,  6., 63.],\n",
              "       [43., 14., 13., 32., 29., 66., 16., 55., 17., 87.],\n",
              "       [67., 69., 42., 13., 76., 38., 52., 87.,  3., 99.]])"
            ]
          },
          "metadata": {},
          "execution_count": 71
        }
      ]
    },
    {
      "cell_type": "markdown",
      "source": [
        "Sum min max of all elements of matrix"
      ],
      "metadata": {
        "id": "J_acXgy3rjNs"
      }
    },
    {
      "cell_type": "code",
      "source": [
        "print(mat.min())\n",
        "print(mat.max())\n",
        "print(mat.sum())\n"
      ],
      "metadata": {
        "colab": {
          "base_uri": "https://localhost:8080/"
        },
        "id": "D9YnSbNCrghe",
        "outputId": "5be49dce-9422-43ae-d89a-dd2156616452"
      },
      "execution_count": null,
      "outputs": [
        {
          "output_type": "stream",
          "name": "stdout",
          "text": [
            "1.0\n",
            "99.0\n",
            "2050.0\n"
          ]
        }
      ]
    },
    {
      "cell_type": "markdown",
      "source": [
        "Standard deviation of mat"
      ],
      "metadata": {
        "id": "4EbwQyl9ruOy"
      }
    },
    {
      "cell_type": "code",
      "source": [
        "mat.std()\n",
        "     "
      ],
      "metadata": {
        "colab": {
          "base_uri": "https://localhost:8080/"
        },
        "id": "pX3dXIb5rnbw",
        "outputId": "1f290c78-5ef4-4546-ed12-56e041164ab5"
      },
      "execution_count": null,
      "outputs": [
        {
          "output_type": "execute_result",
          "data": {
            "text/plain": [
              "28.094839383772957"
            ]
          },
          "metadata": {},
          "execution_count": 73
        }
      ]
    },
    {
      "cell_type": "markdown",
      "source": [
        "Sum of all columns of mat"
      ],
      "metadata": {
        "id": "FmyA9tv4r0rT"
      }
    },
    {
      "cell_type": "code",
      "source": [
        "mat.sum(axis=0)\n",
        "     "
      ],
      "metadata": {
        "colab": {
          "base_uri": "https://localhost:8080/"
        },
        "id": "ngobLRKkrx4Q",
        "outputId": "63d2619a-ec46-486b-9e70-f95a7f9397ae"
      },
      "execution_count": null,
      "outputs": [
        {
          "output_type": "execute_result",
          "data": {
            "text/plain": [
              "array([157., 215., 135., 170., 179., 243., 272., 263., 132., 284.])"
            ]
          },
          "metadata": {},
          "execution_count": 74
        }
      ]
    },
    {
      "cell_type": "code",
      "source": [
        "ar = np.array([\n",
        "               [1,2,3,4],\n",
        "               [10,10,10,10]\n",
        "])"
      ],
      "metadata": {
        "id": "V3vfs5xTr3on"
      },
      "execution_count": null,
      "outputs": []
    },
    {
      "cell_type": "code",
      "source": [
        "ar.sum(axis=1)"
      ],
      "metadata": {
        "colab": {
          "base_uri": "https://localhost:8080/"
        },
        "id": "9f-3NFM1r5-3",
        "outputId": "695fcd7a-737a-40cb-dba1-8e3538c4b062"
      },
      "execution_count": null,
      "outputs": [
        {
          "output_type": "execute_result",
          "data": {
            "text/plain": [
              "array([10, 40])"
            ]
          },
          "metadata": {},
          "execution_count": 76
        }
      ]
    },
    {
      "cell_type": "markdown",
      "source": [
        "create array of dimension same as arr"
      ],
      "metadata": {
        "id": "F0iCYZJUr_PY"
      }
    },
    {
      "cell_type": "code",
      "source": [
        "arr = np.arange(100).reshape(4,5,5)\n",
        "     "
      ],
      "metadata": {
        "id": "kPrPe--Tr81A"
      },
      "execution_count": null,
      "outputs": []
    },
    {
      "cell_type": "code",
      "source": [
        "dim = arr.shape"
      ],
      "metadata": {
        "id": "fesvvRpbsCGA"
      },
      "execution_count": null,
      "outputs": []
    },
    {
      "cell_type": "code",
      "source": [
        "arr2 = np.arange(arr.size).reshape(arr.shape)\n",
        "arr2"
      ],
      "metadata": {
        "colab": {
          "base_uri": "https://localhost:8080/"
        },
        "id": "mMRN2mVWsErH",
        "outputId": "f4ddd43a-40cf-415f-f002-66f1bccf0158"
      },
      "execution_count": null,
      "outputs": [
        {
          "output_type": "execute_result",
          "data": {
            "text/plain": [
              "array([[[ 0,  1,  2,  3,  4],\n",
              "        [ 5,  6,  7,  8,  9],\n",
              "        [10, 11, 12, 13, 14],\n",
              "        [15, 16, 17, 18, 19],\n",
              "        [20, 21, 22, 23, 24]],\n",
              "\n",
              "       [[25, 26, 27, 28, 29],\n",
              "        [30, 31, 32, 33, 34],\n",
              "        [35, 36, 37, 38, 39],\n",
              "        [40, 41, 42, 43, 44],\n",
              "        [45, 46, 47, 48, 49]],\n",
              "\n",
              "       [[50, 51, 52, 53, 54],\n",
              "        [55, 56, 57, 58, 59],\n",
              "        [60, 61, 62, 63, 64],\n",
              "        [65, 66, 67, 68, 69],\n",
              "        [70, 71, 72, 73, 74]],\n",
              "\n",
              "       [[75, 76, 77, 78, 79],\n",
              "        [80, 81, 82, 83, 84],\n",
              "        [85, 86, 87, 88, 89],\n",
              "        [90, 91, 92, 93, 94],\n",
              "        [95, 96, 97, 98, 99]]])"
            ]
          },
          "metadata": {},
          "execution_count": 79
        }
      ]
    }
  ]
}